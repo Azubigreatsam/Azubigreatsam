{
  "nbformat": 4,
  "nbformat_minor": 0,
  "metadata": {
    "colab": {
      "provenance": [],
      "mount_file_id": "1fmMDcOtgaUqovKMBINfM6nWn2yg3Y6XD",
      "authorship_tag": "ABX9TyNhJ3RZ36rIf+DgB8GiLF7W",
      "include_colab_link": true
    },
    "kernelspec": {
      "name": "python3",
      "display_name": "Python 3"
    },
    "language_info": {
      "name": "python"
    }
  },
  "cells": [
    {
      "cell_type": "markdown",
      "metadata": {
        "id": "view-in-github",
        "colab_type": "text"
      },
      "source": [
        "<a href=\"https://colab.research.google.com/github/Azubigreatsam/Azubigreatsam/blob/main/MYNOTEBOOK.ipynb\" target=\"_parent\"><img src=\"https://colab.research.google.com/assets/colab-badge.svg\" alt=\"Open In Colab\"/></a>"
      ]
    },
    {
      "cell_type": "code",
      "execution_count": 4,
      "metadata": {
        "colab": {
          "base_uri": "https://localhost:8080/"
        },
        "id": "wbg2uEdIygp2",
        "outputId": "76eefc19-a719-46dc-88f0-4c79aee42257"
      },
      "outputs": [
        {
          "output_type": "stream",
          "name": "stdout",
          "text": [
            "hello world.!\n"
          ]
        }
      ],
      "source": [
        "print('hello world.!')"
      ]
    }
  ]
}