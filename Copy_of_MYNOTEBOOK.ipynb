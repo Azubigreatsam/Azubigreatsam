{
  "nbformat": 4,
  "nbformat_minor": 0,
  "metadata": {
    "colab": {
      "provenance": [],
      "mount_file_id": "1fmMDcOtgaUqovKMBINfM6nWn2yg3Y6XD",
      "authorship_tag": "ABX9TyNi4AA/a0dQ/E4f/q06tzR1",
      "include_colab_link": true
    },
    "kernelspec": {
      "name": "python3",
      "display_name": "Python 3"
    },
    "language_info": {
      "name": "python"
    }
  },
  "cells": [
    {
      "cell_type": "markdown",
      "metadata": {
        "id": "view-in-github",
        "colab_type": "text"
      },
      "source": [
        "<a href=\"https://colab.research.google.com/github/Azubigreatsam/Azubigreatsam/blob/main/Copy_of_MYNOTEBOOK.ipynb\" target=\"_parent\"><img src=\"https://colab.research.google.com/assets/colab-badge.svg\" alt=\"Open In Colab\"/></a>"
      ]
    },
    {
      "cell_type": "code",
      "execution_count": null,
      "metadata": {
        "colab": {
          "base_uri": "https://localhost:8080/"
        },
        "id": "wbg2uEdIygp2",
        "outputId": "a03ad5ca-efb8-4ac8-d29c-83a7a9df7a77"
      },
      "outputs": [
        {
          "output_type": "stream",
          "name": "stdout",
          "text": [
            "hello world.!\n"
          ]
        }
      ],
      "source": [
        "print('hello world.!')"
      ]
    },
    {
      "cell_type": "code",
      "source": [
        "print('Hello World')"
      ],
      "metadata": {
        "colab": {
          "base_uri": "https://localhost:8080/"
        },
        "id": "-oeVDXOu5Sj_",
        "outputId": "884fd829-e34d-49dd-ab25-e2d03d5b9c80"
      },
      "execution_count": null,
      "outputs": [
        {
          "output_type": "stream",
          "name": "stdout",
          "text": [
            "Hello World\n"
          ]
        }
      ]
    },
    {
      "cell_type": "code",
      "source": [
        "print('I love Azubi Africa')"
      ],
      "metadata": {
        "colab": {
          "base_uri": "https://localhost:8080/"
        },
        "id": "dUAZuHMp5xQr",
        "outputId": "4ab254ed-7814-4288-ad4f-00d48c9a19ac"
      },
      "execution_count": null,
      "outputs": [
        {
          "output_type": "stream",
          "name": "stdout",
          "text": [
            "I love Azubi Africa\n"
          ]
        }
      ]
    },
    {
      "cell_type": "code",
      "source": [
        "  fav ='I love Azubi Africa'\n",
        "\n",
        "  print(fav)"
      ],
      "metadata": {
        "colab": {
          "base_uri": "https://localhost:8080/"
        },
        "id": "xeP9AyfF62vN",
        "outputId": "10f05143-3373-4338-c6aa-0f984d62552c"
      },
      "execution_count": null,
      "outputs": [
        {
          "output_type": "stream",
          "name": "stdout",
          "text": [
            "I love Azubi Africa\n"
          ]
        }
      ]
    },
    {
      "cell_type": "code",
      "source": [
        "first_name = 'Azubi'\n",
        "\n",
        "last_name = 'Africa'\n",
        "\n",
        "print('My name is Azubi Africa')"
      ],
      "metadata": {
        "colab": {
          "base_uri": "https://localhost:8080/"
        },
        "id": "sN87TmbM82cW",
        "outputId": "3d8d645a-75fe-4130-85e3-6cf9e070fe25"
      },
      "execution_count": null,
      "outputs": [
        {
          "output_type": "stream",
          "name": "stdout",
          "text": [
            "My name is Azubi Africa\n"
          ]
        }
      ]
    },
    {
      "cell_type": "markdown",
      "source": [
        "#string concatenation\n",
        "\n",
        "adding two(2) strings"
      ],
      "metadata": {
        "id": "Jn5jOyyl9fsm"
      }
    },
    {
      "cell_type": "code",
      "source": [
        "first_name = 'Azubi'\n",
        "\n",
        "last_name = 'Africa'\n",
        "\n",
        "print('My name is ' + first_name + ' ' + last_name)"
      ],
      "metadata": {
        "colab": {
          "base_uri": "https://localhost:8080/"
        },
        "id": "IaJNlwiz91pc",
        "outputId": "021a95e3-9b1c-4b18-a3db-d5e4be96e8b5"
      },
      "execution_count": null,
      "outputs": [
        {
          "output_type": "stream",
          "name": "stdout",
          "text": [
            "My name is Azubi Africa\n"
          ]
        }
      ]
    },
    {
      "cell_type": "markdown",
      "source": [
        "f-strings"
      ],
      "metadata": {
        "id": "xAqMfrJ6-ZWQ"
      }
    },
    {
      "cell_type": "code",
      "source": [
        "first_name = 'Rachael'\n",
        "\n",
        "last_name = 'Appiah'\n",
        "\n",
        "print(f'My name is {first_name} {last_name}')"
      ],
      "metadata": {
        "colab": {
          "base_uri": "https://localhost:8080/"
        },
        "id": "GIerv8DG-eCu",
        "outputId": "94fb71aa-78f2-4e93-fcd7-a2ea558e2cbc"
      },
      "execution_count": null,
      "outputs": [
        {
          "output_type": "stream",
          "name": "stdout",
          "text": [
            "My name is Rachael Appiah\n"
          ]
        }
      ]
    },
    {
      "cell_type": "markdown",
      "source": [
        "Numbers"
      ],
      "metadata": {
        "id": "GJic404K_qx6"
      }
    },
    {
      "cell_type": "code",
      "source": [
        "2+2"
      ],
      "metadata": {
        "colab": {
          "base_uri": "https://localhost:8080/"
        },
        "id": "ELu_smJn_tPe",
        "outputId": "b5814374-30a1-40d1-d25d-8730822479df"
      },
      "execution_count": null,
      "outputs": [
        {
          "output_type": "execute_result",
          "data": {
            "text/plain": [
              "4"
            ]
          },
          "metadata": {},
          "execution_count": 16
        }
      ]
    },
    {
      "cell_type": "code",
      "source": [
        "name = 'Azubi Africa'\n",
        "\n",
        "age = 5\n",
        "\n",
        "print (f'Hello World! My name is {name}. I am {age} years old')"
      ],
      "metadata": {
        "colab": {
          "base_uri": "https://localhost:8080/"
        },
        "id": "D-YAQD6z_xJg",
        "outputId": "4282cb96-9d62-4ce2-db02-3760dae1418c"
      },
      "execution_count": null,
      "outputs": [
        {
          "output_type": "stream",
          "name": "stdout",
          "text": [
            "Hello World! My name is Azubi Africa. I am 5 years old\n"
          ]
        }
      ]
    },
    {
      "cell_type": "markdown",
      "source": [
        "#Final Project"
      ],
      "metadata": {
        "id": "RjSbyaVWA_yQ"
      }
    },
    {
      "cell_type": "code",
      "source": [
        "name = input('Hey you, please enter your name:')\n",
        "\n",
        "age = input('Hey you,now please enter your age:')\n",
        "\n",
        "print(f'Hey {name}, your age is {age}')"
      ],
      "metadata": {
        "colab": {
          "base_uri": "https://localhost:8080/"
        },
        "id": "0USNvz1fBI2L",
        "outputId": "b5e674fa-34cf-4820-cd6a-5ea18f2182ef"
      },
      "execution_count": null,
      "outputs": [
        {
          "output_type": "stream",
          "name": "stdout",
          "text": [
            "Hey you, please enter your name:Samuel Adjarnor\n",
            "Hey you,now please enter your age:35\n",
            "Hey Samuel Adjarnor, your age is 35\n"
          ]
        }
      ]
    },
    {
      "cell_type": "markdown",
      "source": [
        "Python Keywords\n",
        "\n",
        "Input & output (I/O)\n",
        "\n",
        "print(variable) # show the variable's value\n",
        "\n",
        "variable = input(indicative_message) # ask user to type something and save it"
      ],
      "metadata": {
        "id": "IzKj7RXcDklN"
      }
    },
    {
      "cell_type": "code",
      "source": [
        "print ('Hello world!')"
      ],
      "metadata": {
        "colab": {
          "base_uri": "https://localhost:8080/"
        },
        "id": "rpgv5zYNEaNz",
        "outputId": "7614badf-1bb4-4c9a-fb27-3c652178a803"
      },
      "execution_count": 1,
      "outputs": [
        {
          "output_type": "stream",
          "name": "stdout",
          "text": [
            "Hello world!\n"
          ]
        }
      ]
    },
    {
      "cell_type": "code",
      "source": [
        "full_name = 'Samuel Adjarnor'"
      ],
      "metadata": {
        "id": "qHJyisIGFE8M"
      },
      "execution_count": 3,
      "outputs": []
    },
    {
      "cell_type": "code",
      "source": [
        "print('Hello', full_name,'...!')"
      ],
      "metadata": {
        "colab": {
          "base_uri": "https://localhost:8080/"
        },
        "id": "QWgY1jb0FQ0n",
        "outputId": "0d9bc4b0-a3b8-4eb7-a4ee-d7f2e507f93b"
      },
      "execution_count": 9,
      "outputs": [
        {
          "output_type": "stream",
          "name": "stdout",
          "text": [
            "Hello Samuel Adjarnor ...!\n"
          ]
        }
      ]
    },
    {
      "cell_type": "code",
      "source": [
        "#help(print)"
      ],
      "metadata": {
        "id": "MuDXYLJMG0gA"
      },
      "execution_count": 11,
      "outputs": []
    },
    {
      "cell_type": "code",
      "source": [
        "print(f'Hello {full_name}')"
      ],
      "metadata": {
        "colab": {
          "base_uri": "https://localhost:8080/"
        },
        "id": "9dloN27uFbCF",
        "outputId": "2cb68919-ac41-4487-ebfb-ffadd42ef873"
      },
      "execution_count": 8,
      "outputs": [
        {
          "output_type": "stream",
          "name": "stdout",
          "text": [
            "Hello Samuel Adjarnor\n"
          ]
        }
      ]
    },
    {
      "cell_type": "code",
      "source": [
        "print('Hello {}'.format(full_name))"
      ],
      "metadata": {
        "colab": {
          "base_uri": "https://localhost:8080/"
        },
        "id": "q6Xk1-LEFnKI",
        "outputId": "a48857ee-258b-454a-ad2c-e98290c18a16"
      },
      "execution_count": 12,
      "outputs": [
        {
          "output_type": "stream",
          "name": "stdout",
          "text": [
            "Hello Samuel Adjarnor\n"
          ]
        }
      ]
    },
    {
      "cell_type": "code",
      "source": [
        "origin, actual_country = 'Ghana', 'America'\n",
        "print('I am from {}, and I live in {}'.format(origin, actual_country))"
      ],
      "metadata": {
        "colab": {
          "base_uri": "https://localhost:8080/"
        },
        "id": "CJy334N9Hi4i",
        "outputId": "0076042b-366b-42d5-f5ee-8c5bd3c6857b"
      },
      "execution_count": 23,
      "outputs": [
        {
          "output_type": "stream",
          "name": "stdout",
          "text": [
            "I am from Ghana, and I live in America\n"
          ]
        }
      ]
    },
    {
      "cell_type": "code",
      "source": [
        "typed_value = input('Please type your height (in cm):')\n",
        "print(f'Your height is: {typed_value} cm')"
      ],
      "metadata": {
        "colab": {
          "base_uri": "https://localhost:8080/"
        },
        "id": "EBMYxCS_Z80y",
        "outputId": "9e0f6deb-3465-4a59-dc90-6742b7647e27"
      },
      "execution_count": 24,
      "outputs": [
        {
          "output_type": "stream",
          "name": "stdout",
          "text": [
            "Please type your height (in cm):190\n",
            "Your height is: 190 cm\n"
          ]
        }
      ]
    },
    {
      "cell_type": "code",
      "source": [
        "typed_full_name = input('Please type your full name\\n')\n",
        "print(f'Welcome {typed_full_name}!')"
      ],
      "metadata": {
        "colab": {
          "base_uri": "https://localhost:8080/"
        },
        "id": "Qh32jty0bJ9S",
        "outputId": "b05ba9a9-adee-49ac-f8a6-ac68951ed9dc"
      },
      "execution_count": 25,
      "outputs": [
        {
          "output_type": "stream",
          "name": "stdout",
          "text": [
            "Please type your full name\n",
            "Samuel Adjarnor\n",
            "Welcome Samuel Adjarnor!\n"
          ]
        }
      ]
    },
    {
      "cell_type": "markdown",
      "source": [
        "Conditional Statements:if,elif,else"
      ],
      "metadata": {
        "id": "8SOkqEu0cTi_"
      }
    },
    {
      "cell_type": "markdown",
      "source": [
        "Cimena Ticket Price"
      ],
      "metadata": {
        "id": "YMnDGjejdBBn"
      }
    },
    {
      "cell_type": "code",
      "source": [
        "age_str = input('Please enter your age\\n>>') # Get age in str format\n",
        "age= int(age_str) # Convert age to an int value\n",
        "\n",
        "#COMPUTE PRICE\n",
        "# if age belongs to [0,16]\n",
        "if (age>=0) and (age<16):\n",
        "    price = 10 # price = price + 10\n",
        "\n",
        "# if age belongs to [16,65[\n",
        "elif(age>=16) and (age<65):\n",
        "    price = 15 # price = price + 15\n",
        "\n",
        "# if age is superior or equal to 65\n",
        "elif (age>=65) :\n",
        "    price = 25 # price = price + 25\n",
        "#else means age is inferior to 0\n",
        "else:\n",
        "    price = 0\n",
        "\n",
        "#PRINT PRICE\n",
        "if price ==0:\n",
        "    print(f'Sorry. Something went wrong with the value you typed')\n",
        "else:\n",
        "  print (f'The price for your ticket is: {price}')\n"
      ],
      "metadata": {
        "colab": {
          "base_uri": "https://localhost:8080/"
        },
        "id": "8TLUKvsFdJfD",
        "outputId": "5cbe0b0b-01ce-44c8-bd55-ccc01471ecd3"
      },
      "execution_count": 26,
      "outputs": [
        {
          "output_type": "stream",
          "name": "stdout",
          "text": [
            "Please enter your age\n",
            ">>90\n",
            "The price for your ticket is: 25\n"
          ]
        }
      ]
    }
  ]
}