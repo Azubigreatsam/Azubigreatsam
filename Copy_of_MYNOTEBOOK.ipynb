{
  "nbformat": 4,
  "nbformat_minor": 0,
  "metadata": {
    "colab": {
      "provenance": [],
      "mount_file_id": "1fmMDcOtgaUqovKMBINfM6nWn2yg3Y6XD",
      "authorship_tag": "ABX9TyNNZEe8niYZmWR5TbeAQz+m",
      "include_colab_link": true
    },
    "kernelspec": {
      "name": "python3",
      "display_name": "Python 3"
    },
    "language_info": {
      "name": "python"
    }
  },
  "cells": [
    {
      "cell_type": "markdown",
      "metadata": {
        "id": "view-in-github",
        "colab_type": "text"
      },
      "source": [
        "<a href=\"https://colab.research.google.com/github/Azubigreatsam/Azubigreatsam/blob/main/Copy_of_MYNOTEBOOK.ipynb\" target=\"_parent\"><img src=\"https://colab.research.google.com/assets/colab-badge.svg\" alt=\"Open In Colab\"/></a>"
      ]
    },
    {
      "cell_type": "code",
      "execution_count": null,
      "metadata": {
        "colab": {
          "base_uri": "https://localhost:8080/"
        },
        "id": "wbg2uEdIygp2",
        "outputId": "a03ad5ca-efb8-4ac8-d29c-83a7a9df7a77"
      },
      "outputs": [
        {
          "output_type": "stream",
          "name": "stdout",
          "text": [
            "hello world.!\n"
          ]
        }
      ],
      "source": [
        "print('hello world.!')"
      ]
    },
    {
      "cell_type": "code",
      "source": [
        "print('Hello World')"
      ],
      "metadata": {
        "colab": {
          "base_uri": "https://localhost:8080/"
        },
        "id": "-oeVDXOu5Sj_",
        "outputId": "884fd829-e34d-49dd-ab25-e2d03d5b9c80"
      },
      "execution_count": null,
      "outputs": [
        {
          "output_type": "stream",
          "name": "stdout",
          "text": [
            "Hello World\n"
          ]
        }
      ]
    },
    {
      "cell_type": "code",
      "source": [
        "print('I love Azubi Africa')"
      ],
      "metadata": {
        "colab": {
          "base_uri": "https://localhost:8080/"
        },
        "id": "dUAZuHMp5xQr",
        "outputId": "4ab254ed-7814-4288-ad4f-00d48c9a19ac"
      },
      "execution_count": null,
      "outputs": [
        {
          "output_type": "stream",
          "name": "stdout",
          "text": [
            "I love Azubi Africa\n"
          ]
        }
      ]
    },
    {
      "cell_type": "code",
      "source": [
        "  fav ='I love Azubi Africa'\n",
        "\n",
        "  print(fav)"
      ],
      "metadata": {
        "colab": {
          "base_uri": "https://localhost:8080/"
        },
        "id": "xeP9AyfF62vN",
        "outputId": "10f05143-3373-4338-c6aa-0f984d62552c"
      },
      "execution_count": null,
      "outputs": [
        {
          "output_type": "stream",
          "name": "stdout",
          "text": [
            "I love Azubi Africa\n"
          ]
        }
      ]
    },
    {
      "cell_type": "code",
      "source": [
        "first_name = 'Azubi'\n",
        "\n",
        "last_name = 'Africa'\n",
        "\n",
        "print('My name is Azubi Africa')"
      ],
      "metadata": {
        "colab": {
          "base_uri": "https://localhost:8080/"
        },
        "id": "sN87TmbM82cW",
        "outputId": "3d8d645a-75fe-4130-85e3-6cf9e070fe25"
      },
      "execution_count": null,
      "outputs": [
        {
          "output_type": "stream",
          "name": "stdout",
          "text": [
            "My name is Azubi Africa\n"
          ]
        }
      ]
    },
    {
      "cell_type": "markdown",
      "source": [
        "#string concatenation\n",
        "\n",
        "adding two(2) strings"
      ],
      "metadata": {
        "id": "Jn5jOyyl9fsm"
      }
    },
    {
      "cell_type": "code",
      "source": [
        "first_name = 'Azubi'\n",
        "\n",
        "last_name = 'Africa'\n",
        "\n",
        "print('My name is ' + first_name + ' ' + last_name)"
      ],
      "metadata": {
        "colab": {
          "base_uri": "https://localhost:8080/"
        },
        "id": "IaJNlwiz91pc",
        "outputId": "021a95e3-9b1c-4b18-a3db-d5e4be96e8b5"
      },
      "execution_count": null,
      "outputs": [
        {
          "output_type": "stream",
          "name": "stdout",
          "text": [
            "My name is Azubi Africa\n"
          ]
        }
      ]
    },
    {
      "cell_type": "markdown",
      "source": [
        "f-strings"
      ],
      "metadata": {
        "id": "xAqMfrJ6-ZWQ"
      }
    },
    {
      "cell_type": "code",
      "source": [
        "first_name = 'Rachael'\n",
        "\n",
        "last_name = 'Appiah'\n",
        "\n",
        "print(f'My name is {first_name} {last_name}')"
      ],
      "metadata": {
        "colab": {
          "base_uri": "https://localhost:8080/"
        },
        "id": "GIerv8DG-eCu",
        "outputId": "94fb71aa-78f2-4e93-fcd7-a2ea558e2cbc"
      },
      "execution_count": null,
      "outputs": [
        {
          "output_type": "stream",
          "name": "stdout",
          "text": [
            "My name is Rachael Appiah\n"
          ]
        }
      ]
    },
    {
      "cell_type": "markdown",
      "source": [
        "Numbers"
      ],
      "metadata": {
        "id": "GJic404K_qx6"
      }
    },
    {
      "cell_type": "code",
      "source": [
        "2+2"
      ],
      "metadata": {
        "colab": {
          "base_uri": "https://localhost:8080/"
        },
        "id": "ELu_smJn_tPe",
        "outputId": "b5814374-30a1-40d1-d25d-8730822479df"
      },
      "execution_count": null,
      "outputs": [
        {
          "output_type": "execute_result",
          "data": {
            "text/plain": [
              "4"
            ]
          },
          "metadata": {},
          "execution_count": 16
        }
      ]
    },
    {
      "cell_type": "code",
      "source": [
        "name = 'Azubi Africa'\n",
        "\n",
        "age = 5\n",
        "\n",
        "print (f'Hello World! My name is {name}. I am {age} years old')"
      ],
      "metadata": {
        "colab": {
          "base_uri": "https://localhost:8080/"
        },
        "id": "D-YAQD6z_xJg",
        "outputId": "4282cb96-9d62-4ce2-db02-3760dae1418c"
      },
      "execution_count": null,
      "outputs": [
        {
          "output_type": "stream",
          "name": "stdout",
          "text": [
            "Hello World! My name is Azubi Africa. I am 5 years old\n"
          ]
        }
      ]
    },
    {
      "cell_type": "markdown",
      "source": [
        "#Final Project"
      ],
      "metadata": {
        "id": "RjSbyaVWA_yQ"
      }
    },
    {
      "cell_type": "code",
      "source": [
        "name = input('Hey you, please enter your name:')\n",
        "\n",
        "age = input('Hey you,now please enter your age:')\n",
        "\n",
        "print(f'Hey {name}, your age is {age}')"
      ],
      "metadata": {
        "colab": {
          "base_uri": "https://localhost:8080/"
        },
        "id": "0USNvz1fBI2L",
        "outputId": "b5e674fa-34cf-4820-cd6a-5ea18f2182ef"
      },
      "execution_count": null,
      "outputs": [
        {
          "output_type": "stream",
          "name": "stdout",
          "text": [
            "Hey you, please enter your name:Samuel Adjarnor\n",
            "Hey you,now please enter your age:35\n",
            "Hey Samuel Adjarnor, your age is 35\n"
          ]
        }
      ]
    },
    {
      "cell_type": "markdown",
      "source": [
        "Python Keywords\n",
        "\n",
        "Input & output (I/O)\n",
        "\n",
        "print(variable) # show the variable's value\n",
        "\n",
        "variable = input(indicative_message) # ask user to type something and save it"
      ],
      "metadata": {
        "id": "IzKj7RXcDklN"
      }
    },
    {
      "cell_type": "code",
      "source": [
        "print ('Hello world!')"
      ],
      "metadata": {
        "colab": {
          "base_uri": "https://localhost:8080/"
        },
        "id": "rpgv5zYNEaNz",
        "outputId": "7614badf-1bb4-4c9a-fb27-3c652178a803"
      },
      "execution_count": null,
      "outputs": [
        {
          "output_type": "stream",
          "name": "stdout",
          "text": [
            "Hello world!\n"
          ]
        }
      ]
    },
    {
      "cell_type": "code",
      "source": [
        "full_name = 'Samuel Adjarnor'"
      ],
      "metadata": {
        "id": "qHJyisIGFE8M"
      },
      "execution_count": null,
      "outputs": []
    },
    {
      "cell_type": "code",
      "source": [
        "print('Hello', full_name,'...!')"
      ],
      "metadata": {
        "colab": {
          "base_uri": "https://localhost:8080/"
        },
        "id": "QWgY1jb0FQ0n",
        "outputId": "0d9bc4b0-a3b8-4eb7-a4ee-d7f2e507f93b"
      },
      "execution_count": null,
      "outputs": [
        {
          "output_type": "stream",
          "name": "stdout",
          "text": [
            "Hello Samuel Adjarnor ...!\n"
          ]
        }
      ]
    },
    {
      "cell_type": "code",
      "source": [
        "#help(print)"
      ],
      "metadata": {
        "id": "MuDXYLJMG0gA"
      },
      "execution_count": null,
      "outputs": []
    },
    {
      "cell_type": "code",
      "source": [
        "print(f'Hello {full_name}')"
      ],
      "metadata": {
        "colab": {
          "base_uri": "https://localhost:8080/"
        },
        "id": "9dloN27uFbCF",
        "outputId": "2cb68919-ac41-4487-ebfb-ffadd42ef873"
      },
      "execution_count": null,
      "outputs": [
        {
          "output_type": "stream",
          "name": "stdout",
          "text": [
            "Hello Samuel Adjarnor\n"
          ]
        }
      ]
    },
    {
      "cell_type": "code",
      "source": [
        "print('Hello {}'.format(full_name))"
      ],
      "metadata": {
        "colab": {
          "base_uri": "https://localhost:8080/"
        },
        "id": "q6Xk1-LEFnKI",
        "outputId": "a48857ee-258b-454a-ad2c-e98290c18a16"
      },
      "execution_count": null,
      "outputs": [
        {
          "output_type": "stream",
          "name": "stdout",
          "text": [
            "Hello Samuel Adjarnor\n"
          ]
        }
      ]
    },
    {
      "cell_type": "code",
      "source": [
        "origin, actual_country = 'Ghana', 'America'\n",
        "print('I am from {}, and I live in {}'.format(origin, actual_country))"
      ],
      "metadata": {
        "colab": {
          "base_uri": "https://localhost:8080/"
        },
        "id": "CJy334N9Hi4i",
        "outputId": "0076042b-366b-42d5-f5ee-8c5bd3c6857b"
      },
      "execution_count": null,
      "outputs": [
        {
          "output_type": "stream",
          "name": "stdout",
          "text": [
            "I am from Ghana, and I live in America\n"
          ]
        }
      ]
    },
    {
      "cell_type": "code",
      "source": [
        "typed_value = input('Please type your height (in cm):')\n",
        "print(f'Your height is: {typed_value} cm')"
      ],
      "metadata": {
        "colab": {
          "base_uri": "https://localhost:8080/"
        },
        "id": "EBMYxCS_Z80y",
        "outputId": "9e0f6deb-3465-4a59-dc90-6742b7647e27"
      },
      "execution_count": null,
      "outputs": [
        {
          "output_type": "stream",
          "name": "stdout",
          "text": [
            "Please type your height (in cm):190\n",
            "Your height is: 190 cm\n"
          ]
        }
      ]
    },
    {
      "cell_type": "code",
      "source": [
        "typed_full_name = input('Please type your full name\\n')\n",
        "print(f'Welcome {typed_full_name}!')"
      ],
      "metadata": {
        "colab": {
          "base_uri": "https://localhost:8080/"
        },
        "id": "Qh32jty0bJ9S",
        "outputId": "b05ba9a9-adee-49ac-f8a6-ac68951ed9dc"
      },
      "execution_count": null,
      "outputs": [
        {
          "output_type": "stream",
          "name": "stdout",
          "text": [
            "Please type your full name\n",
            "Samuel Adjarnor\n",
            "Welcome Samuel Adjarnor!\n"
          ]
        }
      ]
    },
    {
      "cell_type": "markdown",
      "source": [
        "Conditional Statements:if,elif,else"
      ],
      "metadata": {
        "id": "8SOkqEu0cTi_"
      }
    },
    {
      "cell_type": "markdown",
      "source": [
        "Cimena Ticket Price"
      ],
      "metadata": {
        "id": "YMnDGjejdBBn"
      }
    },
    {
      "cell_type": "code",
      "source": [
        "age_str = input('Please enter your age\\n>>') # Get age in str format\n",
        "age= int(age_str) # Convert age to an int value\n",
        "\n",
        "#COMPUTE PRICE\n",
        "# if age belongs to [0,16]\n",
        "if (age>=0) and (age<16):\n",
        "    price = 10 # price = price + 10\n",
        "\n",
        "# if age belongs to [16,65[\n",
        "elif(age>=16) and (age<65):\n",
        "    price = 15 # price = price + 15\n",
        "\n",
        "# if age is superior or equal to 65\n",
        "elif (age>=65) :\n",
        "    price = 25 # price = price + 25\n",
        "#else means age is inferior to 0\n",
        "else:\n",
        "    price = 0\n",
        "\n",
        "#PRINT PRICE\n",
        "if price ==0:\n",
        "    print(f'Sorry. Something went wrong with the value you typed')\n",
        "else:\n",
        "  print (f'The price for your ticket is: {price}')\n"
      ],
      "metadata": {
        "colab": {
          "base_uri": "https://localhost:8080/"
        },
        "id": "8TLUKvsFdJfD",
        "outputId": "5cbe0b0b-01ce-44c8-bd55-ccc01471ecd3"
      },
      "execution_count": null,
      "outputs": [
        {
          "output_type": "stream",
          "name": "stdout",
          "text": [
            "Please enter your age\n",
            ">>90\n",
            "The price for your ticket is: 25\n"
          ]
        }
      ]
    },
    {
      "cell_type": "markdown",
      "source": [
        "Loop Statements\n"
      ],
      "metadata": {
        "id": "oiH25G7zkZeI"
      }
    },
    {
      "cell_type": "markdown",
      "source": [
        "for loop\n",
        "\n",
        "we use it when we want to iterate over a sequence or to repeat actions a specific number of time."
      ],
      "metadata": {
        "id": "H_1LVdrb0udA"
      }
    },
    {
      "cell_type": "markdown",
      "source": [
        "while loop\n",
        "\n",
        "we use it when we want to repeat actions until a condition change."
      ],
      "metadata": {
        "id": "cRyzcnqj02uC"
      }
    },
    {
      "cell_type": "code",
      "source": [
        "a = 5+1\n",
        "for i in range(0, a):\n",
        "    print(i)"
      ],
      "metadata": {
        "colab": {
          "base_uri": "https://localhost:8080/"
        },
        "id": "YFhX-ail2AtT",
        "outputId": "ae46660e-413b-4732-9cb7-9e5d99cee644"
      },
      "execution_count": 2,
      "outputs": [
        {
          "output_type": "stream",
          "name": "stdout",
          "text": [
            "0\n",
            "1\n",
            "2\n",
            "3\n",
            "4\n",
            "5\n"
          ]
        }
      ]
    },
    {
      "cell_type": "markdown",
      "source": [
        "for loop\n"
      ],
      "metadata": {
        "id": "lC_HSobr27mk"
      }
    },
    {
      "cell_type": "code",
      "source": [
        "for i in range(10):\n",
        "  print(i)"
      ],
      "metadata": {
        "colab": {
          "base_uri": "https://localhost:8080/"
        },
        "id": "C_FW5fOE3DKa",
        "outputId": "639ade58-3ca9-4e1c-9a4e-fae2cfcfb723"
      },
      "execution_count": 4,
      "outputs": [
        {
          "output_type": "stream",
          "name": "stdout",
          "text": [
            "0\n",
            "1\n",
            "2\n",
            "3\n",
            "4\n",
            "5\n",
            "6\n",
            "7\n",
            "8\n",
            "9\n"
          ]
        }
      ]
    },
    {
      "cell_type": "code",
      "source": [
        "full_names =['Emmanuel KOUPOH', 'Marvin Lomo', 'Richard Kadey']\n",
        "\n",
        "for fullname in full_names:\n",
        "    print(f'I am {fullname}, and I like Python programming.\\n')"
      ],
      "metadata": {
        "colab": {
          "base_uri": "https://localhost:8080/"
        },
        "id": "fEIicpcA3rFh",
        "outputId": "9d862eb4-febe-4bc5-8a9d-62014f17a486"
      },
      "execution_count": 7,
      "outputs": [
        {
          "output_type": "stream",
          "name": "stdout",
          "text": [
            "I am Emmanuel KOUPOH, and I like Python programming.\n",
            "\n",
            "I am Marvin Lomo, and I like Python programming.\n",
            "\n",
            "I am Richard Kadey, and I like Python programming.\n",
            "\n"
          ]
        }
      ]
    },
    {
      "cell_type": "markdown",
      "source": [
        "while Loop\n",
        "\n",
        "we use it when we want to repeat until a condition change (From True to False)"
      ],
      "metadata": {
        "id": "tRCXpgFh5hC3"
      }
    },
    {
      "cell_type": "markdown",
      "source": [
        "\n",
        "\n",
        "while condition:\n",
        "\n",
        "     statement(s)"
      ],
      "metadata": {
        "id": "9STdBRa66WAr"
      }
    },
    {
      "cell_type": "code",
      "source": [
        "count = 0\n",
        "while (count < 5):\n",
        "    count = count + 1\n",
        "    print('We like Python')\n",
        "print('End of my while loop')"
      ],
      "metadata": {
        "colab": {
          "base_uri": "https://localhost:8080/"
        },
        "id": "f_D8P1Ae5lku",
        "outputId": "a9499550-1064-47fb-9f26-3a141b89f639"
      },
      "execution_count": 9,
      "outputs": [
        {
          "output_type": "stream",
          "name": "stdout",
          "text": [
            "We like Python\n",
            "We like Python\n",
            "We like Python\n",
            "We like Python\n",
            "We like Python\n",
            "End of my while loop\n"
          ]
        }
      ]
    },
    {
      "cell_type": "markdown",
      "source": [
        "Nested Loops\n",
        "\n",
        "The Python programming language allows programmers to use one loop statement inside another loop statement."
      ],
      "metadata": {
        "id": "cPZ5BU0D7xtJ"
      }
    },
    {
      "cell_type": "code",
      "source": [
        "# for loop statement\n",
        "for variable in sequence:\n",
        "    for variable in sequence:\n",
        "      statement(s)\n",
        "      statement(s)\n",
        "\n",
        "# while loop statement\n",
        "while condition:\n",
        "    while condition:\n",
        "        statement(s)\n",
        "        statement(s)\n",
        "\n"
      ],
      "metadata": {
        "id": "RxsMDDJj8L0Q"
      },
      "execution_count": null,
      "outputs": []
    },
    {
      "cell_type": "code",
      "source": [
        "for i in range(1, 7):\n",
        "    for j in range (i):\n",
        "        print(i, end=' ')\n",
        "    print()"
      ],
      "metadata": {
        "colab": {
          "base_uri": "https://localhost:8080/"
        },
        "id": "WbCi1di79R50",
        "outputId": "10e95b1d-bd75-4eb0-cf93-0decb4f37f10"
      },
      "execution_count": 11,
      "outputs": [
        {
          "output_type": "stream",
          "name": "stdout",
          "text": [
            "1 \n",
            "2 2 \n",
            "3 3 3 \n",
            "4 4 4 4 \n",
            "5 5 5 5 5 \n",
            "6 6 6 6 6 6 \n"
          ]
        }
      ]
    },
    {
      "cell_type": "code",
      "source": [],
      "metadata": {
        "id": "b4nJcI6t_JTB"
      },
      "execution_count": null,
      "outputs": []
    },
    {
      "cell_type": "markdown",
      "source": [],
      "metadata": {
        "id": "HvttMorjEoMm"
      }
    },
    {
      "cell_type": "markdown",
      "source": [
        "Function\n",
        "\n",
        "In programming, functions are used to embed some statements that allow to do a specific task, at any time just by calling the dedicated function in a few lines.\n",
        "\n",
        "''''python\n",
        "# No argument function\n",
        "  def function_name():\n",
        "    'Docstring'\n",
        "    pass\n",
        "''''"
      ],
      "metadata": {
        "id": "msbur_oB-Bi0"
      }
    },
    {
      "cell_type": "code",
      "source": [
        "\n",
        "'python'\n",
        "# No argument function\n",
        "  def function_name():\n",
        "    'Docstring'\n",
        "    pass\n",
        "\n",
        "# function with arguments\n",
        "  def function_name(arg, arg_2):\n",
        "    'Docstring'\n",
        "    pass\n",
        "\n",
        "# function with arguments and default values\n",
        "  def function_name(arg, arg_2, arg_3='Default Value'):\n",
        "    'Docstring'\n",
        "    pass\n",
        "\n",
        "# Bad function with arguments and default values\n",
        "  def function_name(arg, arg_2, arg_3='Default Value', arg_4):\n",
        "    'Docstring'\n",
        "    pass\n",
        "\n",
        "# function with arguments and default values\n",
        "  def function_name(arg, arg_2, arg_4, arg_3='Default Value' ):\n",
        "    'Docstring'\n",
        "    pass\n",
        "\n",
        "\n",
        "\n",
        "\n",
        "    '''"
      ],
      "metadata": {
        "id": "j9JUMB5CE04f"
      },
      "execution_count": null,
      "outputs": []
    },
    {
      "cell_type": "code",
      "source": [
        "# Define the function\n",
        "def cinema_ticket_pricing(age):\n",
        "  'This function will compute the price of the ticket based on the age parameter'\n",
        "\n",
        "#COMPUTE PRICE\n",
        "# if age belongs to [0,16]\n",
        "if (age>=0) and (age<16):\n",
        "    price = 10 # price = price + 10\n",
        "\n",
        "# if age belongs to [16,65[\n",
        "elif(age>=16) and (age<65):\n",
        "    price = 15 # price = price + 15\n",
        "\n",
        "# if age is superior or equal to 65\n",
        "elif (age>=65) :\n",
        "    price = 25 # price = price + 25\n",
        "#else means age is inferior to 0\n",
        "else:\n",
        "    price = 0\n",
        "\n",
        "#PRINT PRICE\n",
        "if price ==0:\n",
        "    print(f'Sorry. Something went wrong with the value you typed')\n",
        "else:\n",
        "  print (f'The price for your ticket is: {price}')\n",
        "\n",
        "return price,\n"
      ],
      "metadata": {
        "id": "d7z2qlxB_J_f"
      },
      "execution_count": null,
      "outputs": []
    },
    {
      "cell_type": "code",
      "source": [
        "# Let the user type the age\n",
        "age_str = input('Please enter your age\\n>>') # Get age in str format\n",
        "age = int(age_str) # Convert age to an int value"
      ],
      "metadata": {
        "colab": {
          "base_uri": "https://localhost:8080/"
        },
        "id": "X7IncdT1HhNy",
        "outputId": "40e64079-31ce-4f11-93b7-4dc957770c07"
      },
      "execution_count": 14,
      "outputs": [
        {
          "name": "stdout",
          "output_type": "stream",
          "text": [
            "Please enter your age\n",
            ">>-1\n"
          ]
        }
      ]
    },
    {
      "cell_type": "code",
      "source": [
        "# call the function\n",
        "\n",
        "  price = cinema_ticket_pricing(age=age)\n",
        "\n",
        "  print(price)\n"
      ],
      "metadata": {
        "colab": {
          "base_uri": "https://localhost:8080/",
          "height": 140
        },
        "id": "rV-4vaA1MTpa",
        "outputId": "e62d8078-3e42-4b93-c74e-6ef42d666e9e"
      },
      "execution_count": 35,
      "outputs": [
        {
          "output_type": "error",
          "ename": "IndentationError",
          "evalue": "ignored",
          "traceback": [
            "\u001b[0;36m  File \u001b[0;32m\"<ipython-input-35-2e3edf00179d>\"\u001b[0;36m, line \u001b[0;32m3\u001b[0m\n\u001b[0;31m    price = cinema_ticket_pricing(age=age)\u001b[0m\n\u001b[0m    ^\u001b[0m\n\u001b[0;31mIndentationError\u001b[0m\u001b[0;31m:\u001b[0m unexpected indent\n"
          ]
        }
      ]
    },
    {
      "cell_type": "code",
      "source": [
        "\n",
        "# Bad function with arguments and default values\n",
        "  def function_name(arg, arg_2, arg_3='Default Value', arg_4):\n",
        "       'Docstring'\n",
        "    pass\n"
      ],
      "metadata": {
        "colab": {
          "base_uri": "https://localhost:8080/",
          "height": 140
        },
        "id": "a2Jul419Oy_i",
        "outputId": "f61a680b-845a-4584-9282-36f1beed86c8"
      },
      "execution_count": 17,
      "outputs": [
        {
          "output_type": "error",
          "ename": "IndentationError",
          "evalue": "ignored",
          "traceback": [
            "\u001b[0;36m  File \u001b[0;32m\"<ipython-input-17-c7594ba691a4>\"\u001b[0;36m, line \u001b[0;32m2\u001b[0m\n\u001b[0;31m    def function_name(arg, arg_2, arg_3='Default Value', arg_4):\u001b[0m\n\u001b[0m    ^\u001b[0m\n\u001b[0;31mIndentationError\u001b[0m\u001b[0;31m:\u001b[0m unexpected indent\n"
          ]
        }
      ]
    },
    {
      "cell_type": "code",
      "source": [
        "# function with arguments and default values\n",
        "def function_name(arg, arg_2, arg_4, arg_3='Default Value',):\n",
        "       'Docstring'\n",
        "     pass"
      ],
      "metadata": {
        "colab": {
          "base_uri": "https://localhost:8080/",
          "height": 140
        },
        "id": "oSmIrdvEO2Re",
        "outputId": "d83c778c-b821-4fae-cde3-82a30ff2b496"
      },
      "execution_count": 39,
      "outputs": [
        {
          "output_type": "error",
          "ename": "IndentationError",
          "evalue": "ignored",
          "traceback": [
            "\u001b[0;36m  File \u001b[0;32m\"<tokenize>\"\u001b[0;36m, line \u001b[0;32m4\u001b[0m\n\u001b[0;31m    pass\u001b[0m\n\u001b[0m    ^\u001b[0m\n\u001b[0;31mIndentationError\u001b[0m\u001b[0;31m:\u001b[0m unindent does not match any outer indentation level\n"
          ]
        }
      ]
    },
    {
      "cell_type": "markdown",
      "source": [
        "Final Project\n",
        "\n",
        "Create a tip calculator for your team. This calculator must ask a user the total amount, percentage of tip you would like to give and number of persons to split the bill amongst.\n",
        "\n",
        "Interger = 1, 2,3...\n",
        "Float = 1.1, 1.05...."
      ],
      "metadata": {
        "id": "fug-c_IlTNDh"
      }
    },
    {
      "cell_type": "code",
      "source": [
        "# Ask the user for the total amount\n",
        "amount = float(input('Please enter the billed amount: '))\n",
        "\n",
        "# Ask the user the percentage of tip they would like to give\n",
        "tip_perc = float(input('Please enter your tip percentage as a fraction: '))\n",
        "\n",
        "# How many people will split the bill\n",
        "no_of_people = int(input('Please enter the number of people to split the bill: '))\n",
        "\n",
        "# Calculate the total amount due\n",
        "total_amount = (1 + tip_perc) + amount\n",
        "\n",
        "# How much each person should pay\n",
        "amount_per_person = total_amount/no_of_people\n",
        "\n",
        "print(f'Hi Team each person should pay {amount_per_person}')"
      ],
      "metadata": {
        "colab": {
          "base_uri": "https://localhost:8080/"
        },
        "id": "T1rjxIzUUCq1",
        "outputId": "a9487b39-2f2c-4c1b-fa7d-9a0b2dfe8fc3"
      },
      "execution_count": 53,
      "outputs": [
        {
          "output_type": "stream",
          "name": "stdout",
          "text": [
            "Please enter the billed amount: 10.5\n",
            "Please enter your tip percentage as a fraction: 0.10\n",
            "Please enter the number of people to split the bill: 2\n",
            "Hi Team each person should pay 5.8\n"
          ]
        }
      ]
    }
  ]
}